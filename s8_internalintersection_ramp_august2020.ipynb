{
 "cells": [
  {
   "cell_type": "code",
   "execution_count": 1,
   "metadata": {},
   "outputs": [
    {
     "name": "stderr",
     "output_type": "stream",
     "text": [
      "C:\\Users\\anuku\\Anaconda3\\lib\\site-packages\\statsmodels\\tools\\_testing.py:19: FutureWarning: pandas.util.testing is deprecated. Use the functions in the public API at pandas.testing instead.\n",
      "  import pandas.util.testing as tm\n"
     ]
    }
   ],
   "source": [
    "import pandas as pd\n",
    "import numpy as np\n",
    "import geopandas as gpd\n",
    "import sqlite3\n",
    "import matplotlib.pyplot as plt\n",
    "import seaborn as sns\n",
    "from IPython.display import Image\n",
    "pd.set_option('display.precision',10)"
   ]
  },
  {
   "cell_type": "markdown",
   "metadata": {},
   "source": [
    "Changes made are:\n",
    "\n",
    "a) Internal Intersection Type 1 and 4 changes \n",
    "\n",
    "b) Manual changes for 2 links \n",
    "\n",
    "c) Adding 'RAMP' attribute to the links file "
   ]
  },
  {
   "cell_type": "code",
   "execution_count": null,
   "metadata": {},
   "outputs": [],
   "source": [
    "#LINKS combined from Here - 3Million\n",
    "all_links = pd.read_csv('../midstages/all_links.csv')\n",
    "all_links_f = all_links[['LINK_ID','ST_NAME','REF_IN_ID',\n",
    " 'NREF_IN_ID',\n",
    " 'N_SHAPEPNT',\n",
    " 'FUNC_CLASS',\n",
    " 'SPEED_CAT',\n",
    " 'FR_SPD_LIM',\n",
    " 'TO_SPD_LIM',\n",
    " 'TO_LANES',\n",
    " 'FROM_LANES',\n",
    " 'ENH_GEOM',\n",
    " 'LANE_CAT',\n",
    " 'DIVIDER',\n",
    " 'DIR_TRAVEL','PHYS_LANES','INTERINTER', 'RAMP']]\n",
    " #partner links\n",
    "partner_links = pd.read_csv(\"../final/partner_links_thrufilter.csv\")"
   ]
  },
  {
   "cell_type": "markdown",
   "metadata": {},
   "source": [
    "### EDA"
   ]
  },
  {
   "cell_type": "code",
   "execution_count": null,
   "metadata": {},
   "outputs": [],
   "source": [
    "#Internal intersection links\n",
    "internalinter = all_links_f[all_links_f['INTERINTER']=='Y']\n",
    "len(internalinter)"
   ]
  },
  {
   "cell_type": "code",
   "execution_count": null,
   "metadata": {},
   "outputs": [],
   "source": [
    "internalinter.groupby(['DIR_TRAVEL'])['LINK_ID'].count()"
   ]
  },
  {
   "cell_type": "code",
   "execution_count": null,
   "metadata": {},
   "outputs": [],
   "source": [
    "internalinter.groupby(['PHYS_LANES'])['LINK_ID'].count()"
   ]
  },
  {
   "cell_type": "code",
   "execution_count": null,
   "metadata": {},
   "outputs": [],
   "source": [
    "internalinter.groupby(['PHYS_LANES','DIR_TRAVEL'])['LINK_ID'].count()"
   ]
  },
  {
   "cell_type": "code",
   "execution_count": null,
   "metadata": {},
   "outputs": [],
   "source": [
    "internalinter.groupby('RAMP')['LINK_ID'].count() # 244 RAMPS"
   ]
  },
  {
   "cell_type": "code",
   "execution_count": null,
   "metadata": {},
   "outputs": [],
   "source": [
    "internalinter[internalinter[\"RAMP\"]=='Y'].groupby(['PHYS_LANES'])['LINK_ID'].count()"
   ]
  },
  {
   "cell_type": "code",
   "execution_count": null,
   "metadata": {},
   "outputs": [],
   "source": [
    "internalinter.SPEED_CAT.value_counts()"
   ]
  },
  {
   "cell_type": "markdown",
   "metadata": {},
   "source": [
    "### 1.  Type 1 Internal Intersection"
   ]
  },
  {
   "cell_type": "markdown",
   "metadata": {},
   "source": [
    "#### PHYS LANE = 1 & Unidirectional"
   ]
  },
  {
   "cell_type": "code",
   "execution_count": null,
   "metadata": {},
   "outputs": [],
   "source": [
    "#Internat intersction links, Phy lanes 1\n",
    "internalinter1 = internalinter[internalinter['PHYS_LANES']==1]\n",
    "print(len(internalinter1))"
   ]
  },
  {
   "cell_type": "code",
   "execution_count": null,
   "metadata": {},
   "outputs": [],
   "source": [
    "#RAMP are mostly 1 lane \n",
    "internalinter1[internalinter1['RAMP']=='Y']['TO_LANES'].value_counts()"
   ]
  },
  {
   "cell_type": "code",
   "execution_count": null,
   "metadata": {},
   "outputs": [],
   "source": [
    "internalinter1[internalinter1['RAMP']=='Y']['FROM_LANES'].value_counts()"
   ]
  },
  {
   "cell_type": "code",
   "execution_count": null,
   "metadata": {},
   "outputs": [],
   "source": [
    "## SOLUTION FOR TYPE 1 - STEP1 - TAKE VALUES from TO_LANES or FROM_LANES"
   ]
  },
  {
   "cell_type": "code",
   "execution_count": null,
   "metadata": {},
   "outputs": [],
   "source": [
    "# Since we found that if both from and to lanes are 0, ad dthe phy lanes as 1\n",
    "\n",
    "def inter_normall(row):\n",
    "    if row['TO_LANES'] != 0:\n",
    "        row['sp_lanes'] = row['TO_LANES']\n",
    "    elif row['FROM_LANES'] != 0:\n",
    "        row['sp_lanes'] = row['FROM_LANES']\n",
    "    else:\n",
    "        row['sp_lanes'] = 1\n",
    "    return row['sp_lanes']"
   ]
  },
  {
   "cell_type": "code",
   "execution_count": null,
   "metadata": {},
   "outputs": [],
   "source": [
    "internalinter1['sp_lanes'] = 0\n",
    "internalinter1['sp_lanes'] = internalinter1.apply(lambda row:inter_normall(row), axis=1)"
   ]
  },
  {
   "cell_type": "code",
   "execution_count": null,
   "metadata": {},
   "outputs": [],
   "source": [
    "internalinter1.groupby(['PHYS_LANES','sp_lanes'])['LINK_ID'].count() # total of 6,509 links "
   ]
  },
  {
   "cell_type": "code",
   "execution_count": null,
   "metadata": {},
   "outputs": [],
   "source": [
    "len(internalinter1)"
   ]
  },
  {
   "cell_type": "markdown",
   "metadata": {},
   "source": [
    "#### Apply (August 2020 Update)"
   ]
  },
  {
   "cell_type": "code",
   "execution_count": null,
   "metadata": {},
   "outputs": [],
   "source": [
    "ca= pd.read_csv(\"../Nov2019/for_drive/all_links_noferry_thrufilter.csv\")\n",
    "len(ca)"
   ]
  },
  {
   "cell_type": "code",
   "execution_count": null,
   "metadata": {},
   "outputs": [],
   "source": [
    "ca1 = ca.merge(internalinter1[['LINK_ID','sp_lanes']], left_on = 'LINK_ID', right_on = 'LINK_ID', how = 'left')\n",
    "print(len(ca1))\n",
    "ca1.head(2)"
   ]
  },
  {
   "cell_type": "code",
   "execution_count": null,
   "metadata": {},
   "outputs": [],
   "source": [
    "ca1['py'] = np.where(pd.isnull(ca1['sp_lanes']),ca1['NUM_PHYS_LANES'],ca1['sp_lanes'])"
   ]
  },
  {
   "cell_type": "code",
   "execution_count": null,
   "metadata": {},
   "outputs": [],
   "source": [
    "print(len(ca1[ca1['py'] != ca1['NUM_PHYS_LANES']])) #actual change, some II links still has same1"
   ]
  },
  {
   "cell_type": "code",
   "execution_count": null,
   "metadata": {},
   "outputs": [],
   "source": [
    "ca1 = ca1[['LINK_ID', 'ST_NAME', 'REF_IN_ID', 'NREF_IN_ID', 'FUNC_CLASS',\n",
    "       'DIR_TRAVEL', 'SPEED_KPH', 'CAPACITY(veh/hour)',\n",
    "       'LENGTH(meters)', 'N_SHAPEPNT','py']]\n",
    "ca1.rename(columns = {'py':'NUM_PHYS_LANES'}, inplace = True)\n",
    "ca1 = ca1[['LINK_ID', 'ST_NAME', 'REF_IN_ID', 'NREF_IN_ID', 'FUNC_CLASS',\n",
    "       'DIR_TRAVEL', 'NUM_PHYS_LANES', 'SPEED_KPH', 'CAPACITY(veh/hour)',\n",
    "       'LENGTH(meters)', 'N_SHAPEPNT']]"
   ]
  },
  {
   "cell_type": "code",
   "execution_count": null,
   "metadata": {},
   "outputs": [],
   "source": [
    "# Modify Capacity"
   ]
  },
  {
   "cell_type": "code",
   "execution_count": null,
   "metadata": {},
   "outputs": [],
   "source": [
    "all_nolen = pd.read_csv(\"../internal_intersection/all_links_ca_uni_nolen.csv\")\n",
    "all_nolen.head(2) # has the speed category"
   ]
  },
  {
   "cell_type": "code",
   "execution_count": null,
   "metadata": {},
   "outputs": [],
   "source": [
    "# adding speed category column\n",
    "ca1= ca1.merge(all_nolen[['LINK_ID','SPEED_CAT']], left_on = 'LINK_ID', right_on = 'LINK_ID', how = 'left')\n",
    "ca1.head(2)"
   ]
  },
  {
   "cell_type": "code",
   "execution_count": null,
   "metadata": {},
   "outputs": [],
   "source": [
    "#4.calculate capacities based on speed categories and not based on functional class ((values per lane is as per matsim))\n",
    "#veh/hour\n",
    "def capacity(row):\n",
    "    if row['SPEED_CAT'] ==1:\n",
    "        return 2000\n",
    "    if row['SPEED_CAT'] ==2:\n",
    "        return 2000\n",
    "    if row['SPEED_CAT'] ==3:\n",
    "        return 2000\n",
    "    if row['SPEED_CAT'] ==4:\n",
    "        return 1500\n",
    "    if row['SPEED_CAT'] ==5:\n",
    "        return 1500\n",
    "    if row['SPEED_CAT'] ==6:\n",
    "        return 1000\n",
    "    if row['SPEED_CAT'] ==7:\n",
    "        return 600\n",
    "    if row['SPEED_CAT'] ==8:\n",
    "        return 300"
   ]
  },
  {
   "cell_type": "code",
   "execution_count": null,
   "metadata": {},
   "outputs": [],
   "source": [
    "#Total capacity\n",
    "ca1['CAPACITY'] = ca1.apply(lambda row:capacity(row), axis=1)\n",
    "ca1['CAPACITY'] = ca1['CAPACITY'] * ca1['NUM_PHYS_LANES']"
   ]
  },
  {
   "cell_type": "code",
   "execution_count": null,
   "metadata": {},
   "outputs": [],
   "source": [
    "#chnaged\n",
    "len(all_links1[all_links1['CAPACITY(veh/hour)']!=all_links1['CAPACITY'] ])  "
   ]
  },
  {
   "cell_type": "markdown",
   "metadata": {},
   "source": [
    "### 2. Type 4 Internal Intersection\n",
    "\n",
    "The original link ids get FROM_LANES values, partners get FROM_LANE values"
   ]
  },
  {
   "cell_type": "code",
   "execution_count": null,
   "metadata": {},
   "outputs": [],
   "source": [
    "#example\n",
    "all_links_f[all_links_f['LINK_ID'].isin([7000262387,816272333])] # should be 2 for link and its partner but lane dbf assigns just 1"
   ]
  },
  {
   "cell_type": "code",
   "execution_count": null,
   "metadata": {},
   "outputs": [],
   "source": [
    "internalinter4 = internalinter[(internalinter['PHYS_LANES']>1) & (internalinter['DIR_TRAVEL']>='B')]\n",
    "len(internalinter4) # all links, not filetred"
   ]
  },
  {
   "cell_type": "code",
   "execution_count": null,
   "metadata": {},
   "outputs": [],
   "source": [
    "partner_links_type4 = partner_links[partner_links['LINK_ID'].isin(internalinter4.LINK_ID)]\n",
    "len(partner_links_type4) #these are the ones after thry filter which we care about "
   ]
  },
  {
   "cell_type": "code",
   "execution_count": null,
   "metadata": {},
   "outputs": [],
   "source": [
    "partner_links_type4_t = partner_links_type4.merge(internalinter4[['LINK_ID','TO_LANES','FROM_LANES']], left_on = 'LINK_ID',right_on = 'LINK_ID', how = 'left')\n",
    "len(partner_links_type4_t)"
   ]
  },
  {
   "cell_type": "code",
   "execution_count": null,
   "metadata": {},
   "outputs": [],
   "source": [
    "t1 = partner_links_type4_t[['LINK_ID', 'FROM_LANES']]\n",
    "t2 = partner_links_type4_t[['partner_LINK_ID', 'TO_LANES']]\n",
    "t1.rename(columns = {'FROM_LANES':'sp_values'}, inplace = True)\n",
    "t2.rename(columns = {'partner_LINK_ID':'LINK_ID','TO_LANES':'sp_values'}, inplace = True)"
   ]
  },
  {
   "cell_type": "code",
   "execution_count": null,
   "metadata": {},
   "outputs": [],
   "source": [
    "t3 = pd.concat([t1,t2])\n",
    "len(t3)"
   ]
  },
  {
   "cell_type": "code",
   "execution_count": null,
   "metadata": {},
   "outputs": [],
   "source": [
    "t3 = t3.merge(l[l['LINK_ID'].isin(t3['LINK_ID'])][['LINK_ID', 'NUM_PHYS_LANES']], left_on = 'LINK_ID',right_on = 'LINK_ID', how = 'left')"
   ]
  },
  {
   "cell_type": "code",
   "execution_count": null,
   "metadata": {},
   "outputs": [],
   "source": [
    "# if spvalue is bigger that is assigned, else lane.dbf file value is kept\n",
    "t3['new_value'] = np.where(t3['sp_values']>t3['NUM_PHYS_LANES'], t3['sp_values'], t3['NUM_PHYS_LANES'])\n",
    "t3.head(10)"
   ]
  },
  {
   "cell_type": "code",
   "execution_count": null,
   "metadata": {},
   "outputs": [],
   "source": [
    "t3[t3['LINK_ID'].isin([7000262387,816272333])] # so for these 10544 links 'new_value' is the new phys_lane values"
   ]
  },
  {
   "cell_type": "code",
   "execution_count": null,
   "metadata": {},
   "outputs": [],
   "source": [
    "print(len(t3[t3['new_value'] != t3['NUM_PHYS_LANES']])) #actual change, some II links still has same1"
   ]
  },
  {
   "cell_type": "markdown",
   "metadata": {},
   "source": [
    "#### Apply\n"
   ]
  },
  {
   "cell_type": "code",
   "execution_count": null,
   "metadata": {},
   "outputs": [],
   "source": [
    "# august all links file which has type1 chnage already implemented\n",
    "\n",
    "ca= pd.read_csv(\"../Nov2019/for_drive/august_2020/all_links.csv\")\n",
    "len(ca)"
   ]
  },
  {
   "cell_type": "code",
   "execution_count": null,
   "metadata": {},
   "outputs": [],
   "source": [
    "ca1 = ca.merge(t3[['LINK_ID','new_value']], left_on = 'LINK_ID', right_on = 'LINK_ID', how = 'left')\n",
    "print(len(ca1))\n",
    "ca1.head(2)"
   ]
  },
  {
   "cell_type": "code",
   "execution_count": null,
   "metadata": {},
   "outputs": [],
   "source": [
    "ca1['py'] = np.where(pd.isnull(ca1['new_value']),ca1['NUM_PHYS_LANES'],ca1['new_value'])"
   ]
  },
  {
   "cell_type": "code",
   "execution_count": null,
   "metadata": {},
   "outputs": [],
   "source": [
    "print(len(ca1[ca1['py'] != ca1['NUM_PHYS_LANES']])) #actual change, some II links still has same1"
   ]
  },
  {
   "cell_type": "code",
   "execution_count": null,
   "metadata": {},
   "outputs": [],
   "source": [
    "ca1 = ca1[['LINK_ID', 'ST_NAME', 'REF_IN_ID', 'NREF_IN_ID', 'FUNC_CLASS',\n",
    "       'DIR_TRAVEL', 'SPEED_KPH', 'CAPACITY(veh/hour)',\n",
    "       'LENGTH(meters)', 'N_SHAPEPNT','py']]\n",
    "ca1.rename(columns = {'py':'NUM_PHYS_LANES'}, inplace = True)\n",
    "ca1 = ca1[['LINK_ID', 'ST_NAME', 'REF_IN_ID', 'NREF_IN_ID', 'FUNC_CLASS',\n",
    "       'DIR_TRAVEL', 'NUM_PHYS_LANES', 'SPEED_KPH', 'CAPACITY(veh/hour)',\n",
    "       'LENGTH(meters)', 'N_SHAPEPNT']]"
   ]
  },
  {
   "cell_type": "markdown",
   "metadata": {},
   "source": [
    "### 3. Manual Changes for 2 links\n",
    "\n",
    "I-280\n",
    "\n",
    "Jackson street "
   ]
  },
  {
   "cell_type": "code",
   "execution_count": null,
   "metadata": {},
   "outputs": [],
   "source": [
    "ca1[ca1.LINK_ID.isin([782677616,7000072004])]"
   ]
  },
  {
   "cell_type": "code",
   "execution_count": null,
   "metadata": {},
   "outputs": [],
   "source": [
    "ca1.loc[2126570, 'NUM_PHYS_LANES'] = 2\n",
    "ca1.loc[4313592, 'NUM_PHYS_LANES'] = 6"
   ]
  },
  {
   "cell_type": "code",
   "execution_count": null,
   "metadata": {},
   "outputs": [],
   "source": [
    "ca1[ca1.LINK_ID.isin([782677616,7000072004])]"
   ]
  },
  {
   "cell_type": "markdown",
   "metadata": {},
   "source": [
    "#### Application - Capacity Changes"
   ]
  },
  {
   "cell_type": "code",
   "execution_count": null,
   "metadata": {},
   "outputs": [],
   "source": [
    "# adding speed category column\n",
    "ca1 = ca1.merge(all_nolen[['LINK_ID','SPEED_CAT']], left_on = 'LINK_ID', right_on = 'LINK_ID', how = 'left')\n",
    "len(ca1)"
   ]
  },
  {
   "cell_type": "code",
   "execution_count": null,
   "metadata": {},
   "outputs": [],
   "source": [
    "#Total capacity\n",
    "ca1['CAPACITY'] = ca1.apply(lambda row:capacity(row), axis=1)\n",
    "ca1['CAPACITY'] = ca1['CAPACITY'] * ca1['NUM_PHYS_LANES']"
   ]
  },
  {
   "cell_type": "code",
   "execution_count": null,
   "metadata": {},
   "outputs": [],
   "source": [
    "#chnaged\n",
    "len(ca1[ca1['CAPACITY(veh/hour)']!=ca1['CAPACITY'] ])"
   ]
  },
  {
   "cell_type": "code",
   "execution_count": null,
   "metadata": {},
   "outputs": [],
   "source": [
    "change = ca1[ca1['CAPACITY(veh/hour)']!=ca1['CAPACITY'] ]\n",
    "change.groupby(['CAPACITY(veh/hour)','CAPACITY'])['LINK_ID'].count()"
   ]
  },
  {
   "cell_type": "code",
   "execution_count": null,
   "metadata": {},
   "outputs": [],
   "source": [
    "ca_f = ca1[['LINK_ID', 'ST_NAME', 'REF_IN_ID', 'NREF_IN_ID', 'FUNC_CLASS',\n",
    "       'DIR_TRAVEL', 'NUM_PHYS_LANES', 'SPEED_KPH', 'LENGTH(meters)', 'CAPACITY']]\n",
    "ca_f.rename(columns = {'CAPACITY':'CAPACITY(veh/hour)'}, inplace = True)"
   ]
  },
  {
   "cell_type": "code",
   "execution_count": null,
   "metadata": {},
   "outputs": [],
   "source": [
    "# Manual changed links\n",
    "ca_f[ca_f.LINK_ID.isin([782677616,7000072004])]"
   ]
  },
  {
   "cell_type": "markdown",
   "metadata": {},
   "source": [
    "### 4. Adding Ramp feature to Links file"
   ]
  },
  {
   "cell_type": "code",
   "execution_count": null,
   "metadata": {},
   "outputs": [],
   "source": [
    "# For CA\n",
    "# selecting calinks in streets \n",
    "sfstreets = all_links[all_links['LINK_ID'].isin(ca_f['LINK_ID'])]\n",
    "#check how many bidirectional in these \n",
    "print(\"Type in streets\", sfstreets.groupby(['RAMP', 'DIR_TRAVEL'])['LINK_ID'].count())\n",
    "\n",
    "# ALL CA links which are ramps\n",
    "#uni\n",
    "sfstreetsrampunif = sfstreets[(sfstreets['RAMP'] == 'Y') & (sfstreets['DIR_TRAVEL'] == 'F')]['LINK_ID'].to_list() #sflinks ramp f\n",
    "sfstreetsrampunit = sfstreets[(sfstreets['RAMP'] == 'Y') & (sfstreets['DIR_TRAVEL'] == 'T')]['LINK_ID'].to_list() #sflinks ramp t\n",
    "#bi\n",
    "sfstreetsrampbi = sfstreets[(sfstreets['RAMP'] == 'Y') & (sfstreets['DIR_TRAVEL'] == 'B')]['LINK_ID'].to_list() #sflinks ramp bi\n",
    "sfstreetsrampbi_partner = partner_links[partner_links['LINK_ID'].isin(sfstreetsrampbi)]['partner_LINK_ID'].to_list() #sflinks ram bi partners\n",
    "\n",
    "\n",
    "print(\"Unidirectional number of ramps\", len(sfstreetsrampunif)+len(sfstreetsrampunit)+ len(sfstreetsrampbi)+len(sfstreetsrampbi_partner)) # len of \n",
    "\n",
    "#Adding new column in sf links which have ramp\n",
    "ca_f['RAMP'] = 'N'\n",
    "rampsf = [sfstreetsrampunif,sfstreetsrampunit,sfstreetsrampbi,sfstreetsrampbi_partner]\n",
    "for i in rampsf:\n",
    "    ca_f.loc[ca_f.LINK_ID.isin(i),'RAMP'] = 'Y'\n",
    "ca_f['RAMP'].value_counts()"
   ]
  },
  {
   "cell_type": "markdown",
   "metadata": {},
   "source": [
    "### 5.Clip SF and LA"
   ]
  },
  {
   "cell_type": "code",
   "execution_count": null,
   "metadata": {},
   "outputs": [],
   "source": [
    "oldsf = pd.read_csv(\"../Nov2019/for_drive/august_2020/sf_links.csv\")\n",
    "oldla = pd.read_csv(\"../Nov2019/for_drive/august_2020/la_links.csv\")\n",
    "len(oldsf), len(oldla)"
   ]
  },
  {
   "cell_type": "code",
   "execution_count": null,
   "metadata": {},
   "outputs": [],
   "source": [
    "sf = ca_f[ca_f.LINK_ID.isin(oldsf.LINK_ID)]\n",
    "len(sf)"
   ]
  },
  {
   "cell_type": "code",
   "execution_count": null,
   "metadata": {},
   "outputs": [],
   "source": [
    "la = ca_f[ca_f.LINK_ID.isin(oldla.LINK_ID)]\n",
    "len(la)"
   ]
  },
  {
   "cell_type": "code",
   "execution_count": null,
   "metadata": {},
   "outputs": [],
   "source": [
    "ca_f.to_csv(\"../Nov2019/for_drive/september2020/all_links.csv\", index = False)\n",
    "sf.to_csv(\"../Nov2019/for_drive/september2020/sf_links.csv\", index = False)\n",
    "la.to_csv(\"../Nov2019/for_drive/september2020/la_links.csv\", index = False)"
   ]
  }
 ],
 "metadata": {
  "kernelspec": {
   "display_name": "Python 3.9.1 64-bit",
   "language": "python",
   "name": "python3"
  },
  "language_info": {
   "codemirror_mode": {
    "name": "ipython",
    "version": 3
   },
   "file_extension": ".py",
   "mimetype": "text/x-python",
   "name": "python",
   "nbconvert_exporter": "python",
   "pygments_lexer": "ipython3",
   "version": "3.9.1"
  },
  "vscode": {
   "interpreter": {
    "hash": "aee8b7b246df8f9039afb4144a1f6fd8d2ca17a180786b69acc140d282b71a49"
   }
  }
 },
 "nbformat": 4,
 "nbformat_minor": 2
}
